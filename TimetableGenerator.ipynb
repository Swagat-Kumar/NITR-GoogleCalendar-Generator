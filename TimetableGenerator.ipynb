{
 "cells": [
  {
   "cell_type": "code",
   "execution_count": 36,
   "metadata": {},
   "outputs": [
    {
     "name": "stdout",
     "output_type": "stream",
     "text": [
      "20211118T014913\n",
      "20220518T014913\n"
     ]
    }
   ],
   "source": [
    "from datetime import datetime\n",
    "from dateutil.relativedelta import relativedelta\n",
    "nowDate=datetime.now()\n",
    "thenDate=datetime.now()+relativedelta(months=6)\n",
    "def formatDate(date):\n",
    "    date=date[:-7]\n",
    "    date=date.replace('-','')\n",
    "    date=date.replace(':','')\n",
    "    return date\n",
    "now=formatDate(nowDate.isoformat())\n",
    "then=formatDate(thenDate.isoformat())\n",
    "print(now)\n",
    "print(then)"
   ]
  },
  {
   "cell_type": "code",
   "execution_count": 37,
   "metadata": {},
   "outputs": [
    {
     "name": "stdout",
     "output_type": "stream",
     "text": [
      "{'EE4101': [' Power System Protection', 'Dr. Shekha Rai'], 'EE4103': [' High Voltage Engineering and HVDC Transmission', 'Prof. Subrata Karmakar'], 'EE4405': [' Digital Communication', 'Dr. Suman Kr. Dey'], 'SM6611': [' Business Research Methodology', 'Dr. Kunja Sambashiva Rao'], 'EE4903': [' Seminar and Technical Writing - I', 'Prof. Asim Kumar Naskar'], 'EE4091': [' Research Project - I', 'Prof. Ananyo Sengupta'], 'EE4701': [' Power Systems Laboratory', 'Dr. Shekha Rai'], 'EE4703': [' Communication Systems Laboratory', 'Dr. Suman Kr. Dey'], 'EE4705': [' Control and Electrical System Design', 'Dr. Arijit Guha']}\n"
     ]
    }
   ],
   "source": [
    "#Registered Courses\n",
    "subjects=input().split('\\t')\n",
    "subjectsDictionary={}\n",
    "for i in range(len(subjects)):\n",
    "    if ':' in subjects[i]:\n",
    "        subjectsDictionary[subjects[i][:subjects[i].index(':')-1]]=[subjects[i][subjects[i].index(':')+1:],subjects[i+3]]\n",
    "print(subjectsDictionary)"
   ]
  },
  {
   "cell_type": "code",
   "execution_count": 38,
   "metadata": {},
   "outputs": [
    {
     "name": "stdout",
     "output_type": "stream",
     "text": [
      "{'MONDAY': ['EE4101', 'EE4405', '-', '-', '-', '-', '-', 'SM6611', 'EE4103'], 'TUESDAY': ['EE4405', '-', '-', '-', '-', '-', '-', 'SM6611', '-'], 'WEDNESDAY': ['-', 'EE4703', 'EE4703', 'EE4703', '-', 'EE4701', 'EE4701', 'EE4701', 'EE4103'], 'THURSDAY': ['-', '-', 'EE4101', '-', '-', '-', '-', 'SM6611', '-'], 'FRIDAY': ['-', 'EE4101', 'EE4405', '-', '-', '-', '-', '-', 'EE4103']}\n"
     ]
    }
   ],
   "source": [
    "#TimeTable\n",
    "timetable=input().replace('L U N C H','').split()\n",
    "timetableDictionary={}\n",
    "for i in range(len(timetable)):\n",
    "    if timetable[i] in {'MONDAY','TUESDAY','WEDNESDAY','THURSDAY','FRIDAY'}:\n",
    "        timetableDictionary[timetable[i]]=timetable[i+1:i+10]\n",
    "print(timetableDictionary)"
   ]
  },
  {
   "cell_type": "code",
   "execution_count": 39,
   "metadata": {},
   "outputs": [],
   "source": [
    "head=\"\"\"BEGIN:VCALENDAR\n",
    "PRODID:-//Google Inc//Google Calendar 70.9054//EN\n",
    "VERSION:2.0\n",
    "CALSCALE:GREGORIAN\n",
    "METHOD:PUBLISH\n",
    "X-WR-CALNAME:Class Schedule\n",
    "X-WR-TIMEZONE:Asia/Kolkata\n",
    "X-WR-CALDESC:Created By ICS Class Schedule Generator\n",
    "BEGIN:VTIMEZONE\n",
    "TZID:Asia/Kolkata\n",
    "X-LIC-LOCATION:Asia/Kolkata\n",
    "BEGIN:STANDARD\n",
    "TZOFFSETFROM:+0530\n",
    "TZOFFSETTO:+0530\n",
    "TZNAME:IST\n",
    "DTSTART:19700101T000000\n",
    "END:STANDARD\n",
    "END:VTIMEZONE\n",
    "\"\"\"\n",
    "tail=\"\"\"END:VCALENDAR\"\"\""
   ]
  },
  {
   "cell_type": "code",
   "execution_count": 40,
   "metadata": {},
   "outputs": [
    {
     "data": {
      "text/plain": [
       "395"
      ]
     },
     "execution_count": 40,
     "metadata": {},
     "output_type": "execute_result"
    }
   ],
   "source": [
    "file=open('ClassSchedule.ics','w')\n",
    "file.write(head)"
   ]
  },
  {
   "cell_type": "code",
   "execution_count": 41,
   "metadata": {},
   "outputs": [],
   "source": [
    "def createEvent(day,teacherName,title,begin,end):\n",
    "    event=f\"\"\"BEGIN:VEVENT\n",
    "DTSTART;TZID=Asia/Kolkata:{now[:-6]+begin}\n",
    "DTEND;TZID=Asia/Kolkata:{now[:-6]+end}\n",
    "RRULE:FREQ=WEEKLY;WKST=SU;UNTIL={then}Z;BYDAY={day}\n",
    "DTSTAMP:{now}\n",
    "CLASS:PUBLIC\n",
    "CREATED:{now}\n",
    "DESCRIPTION:{teacherName}\n",
    "LAST-MODIFIED:{now}\n",
    "LOCATION:National Institute of Technology\\, Rourkela\\, Bisra Rd\\, National \n",
    "Institute of Technology\\, Jindal Colony\\, Udit Nagar\\, Rourkela\\, Odisha 76\n",
    "9001\\, India\n",
    "SEQUENCE:0\n",
    "STATUS:CONFIRMED\n",
    "SUMMARY:{title} \n",
    "TRANSP:OPAQUE\n",
    "END:VEVENT\n",
    "\"\"\"\n",
    "    return event\n",
    "timeslots=[['080000','090000'],['090000','100000'],['100000','110000'],['110000','120000'],['131500','141500'],['141500','151500'],['151500','161500'],['161500','171500'],['171500','181500']]\n",
    "dayShortForm={'MONDAY':'MO','TUESDAY':'TU','WEDNESDAY':'WE','THURSDAY':'TH','FRIDAY':'FR'}\n",
    "for day in timetableDictionary:\n",
    "    for i in range(len(timetableDictionary[day])):\n",
    "        if timetableDictionary[day][i]=='-':\n",
    "            continue\n",
    "        file.write(createEvent(dayShortForm[day],subjectsDictionary[timetableDictionary[day][i]][1],subjectsDictionary[timetableDictionary[day][i]][0],timeslots[i][0],timeslots[i][1]))"
   ]
  },
  {
   "cell_type": "code",
   "execution_count": 42,
   "metadata": {},
   "outputs": [],
   "source": [
    "\n",
    "\n",
    "file.write(tail)\n",
    "file.close()"
   ]
  }
 ],
 "metadata": {
  "interpreter": {
   "hash": "63fd5069d213b44bf678585dea6b12cceca9941eaf7f819626cde1f2670de90d"
  },
  "kernelspec": {
   "display_name": "Python 3.9.1 64-bit",
   "language": "python",
   "name": "python3"
  },
  "language_info": {
   "codemirror_mode": {
    "name": "ipython",
    "version": 3
   },
   "file_extension": ".py",
   "mimetype": "text/x-python",
   "name": "python",
   "nbconvert_exporter": "python",
   "pygments_lexer": "ipython3",
   "version": "3.9.1"
  },
  "orig_nbformat": 4
 },
 "nbformat": 4,
 "nbformat_minor": 2
}
